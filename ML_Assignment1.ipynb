{
 "cells": [
  {
   "cell_type": "code",
   "execution_count": 8,
   "metadata": {},
   "outputs": [
    {
     "name": "stdout",
     "output_type": "stream",
     "text": [
      "(2-2j)\n"
     ]
    }
   ],
   "source": [
    "# Write a program to subtract two complex numbers in Python.\n",
    "\n",
    "a= 7+10j\n",
    "b= 5+12j\n",
    "c=a-b\n",
    "print(c)"
   ]
  },
  {
   "cell_type": "code",
   "execution_count": 14,
   "metadata": {},
   "outputs": [
    {
     "data": {
      "text/plain": [
       "3.0"
      ]
     },
     "execution_count": 14,
     "metadata": {},
     "output_type": "execute_result"
    }
   ],
   "source": [
    "# Write a program to find the fourth root of a number.\n",
    "\n",
    "\n",
    "a=81\n",
    "y=1/4\n",
    "pow(a,y)"
   ]
  },
  {
   "cell_type": "code",
   "execution_count": 19,
   "metadata": {},
   "outputs": [
    {
     "name": "stdout",
     "output_type": "stream",
     "text": [
      "After swapping value of x = 2\n",
      "After swapping value of y = 1\n"
     ]
    }
   ],
   "source": [
    "# Write a program to swap two numbers in Python with the help of a temporary variable.\n",
    "\n",
    "x = 1\n",
    "y = 2\n",
    "\n",
    "temp=x\n",
    "x=y\n",
    "y=temp\n",
    "\n",
    "print(\"After swapping value of x =\", x)\n",
    "print(\"After swapping value of y =\",y)\n"
   ]
  },
  {
   "cell_type": "code",
   "execution_count": 22,
   "metadata": {},
   "outputs": [
    {
     "name": "stdout",
     "output_type": "stream",
     "text": [
      "After swapping value of x = 2\n",
      "After swapping value of y = 1\n"
     ]
    }
   ],
   "source": [
    "# Write a program to swap two numbers in Python without using a temporary variable.\n",
    "\n",
    "x = 1\n",
    "y = 2\n",
    "\n",
    "x,y=y,x\n",
    "\n",
    "print(\"After swapping value of x =\", x)\n",
    "print(\"After swapping value of y =\",y)"
   ]
  },
  {
   "cell_type": "code",
   "execution_count": 29,
   "metadata": {},
   "outputs": [
    {
     "name": "stdout",
     "output_type": "stream",
     "text": [
      "Tempature in Kelvin: 276.0722222222222\n",
      "Tempature in Celsius: 2.922222222222217\n"
     ]
    }
   ],
   "source": [
    "# Write a program to convert Fahrenheit to kelvin and celsius both.\n",
    "\n",
    "F = 37.26\n",
    "K = (F-32)*5/9 + 273.15\n",
    "C = K-273.15\n",
    "print(\"Tempature in Kelvin:\",K)\n",
    "print(\"Tempature in Celsius:\",C)"
   ]
  },
  {
   "cell_type": "code",
   "execution_count": 39,
   "metadata": {},
   "outputs": [
    {
     "data": {
      "text/plain": [
       "int"
      ]
     },
     "execution_count": 39,
     "metadata": {},
     "output_type": "execute_result"
    }
   ],
   "source": [
    "# Write a program to demonstrate all the available data types in Python. Hint: Use type() function.\n",
    "\n",
    "z = 5\n",
    "type(z)"
   ]
  },
  {
   "cell_type": "code",
   "execution_count": 40,
   "metadata": {},
   "outputs": [
    {
     "data": {
      "text/plain": [
       "float"
      ]
     },
     "execution_count": 40,
     "metadata": {},
     "output_type": "execute_result"
    }
   ],
   "source": [
    "y = 5.0\n",
    "type(y)"
   ]
  },
  {
   "cell_type": "code",
   "execution_count": 41,
   "metadata": {},
   "outputs": [
    {
     "data": {
      "text/plain": [
       "complex"
      ]
     },
     "execution_count": 41,
     "metadata": {},
     "output_type": "execute_result"
    }
   ],
   "source": [
    "x = 2 + 7j\n",
    "type(x)"
   ]
  },
  {
   "cell_type": "code",
   "execution_count": 42,
   "metadata": {},
   "outputs": [
    {
     "data": {
      "text/plain": [
       "str"
      ]
     },
     "execution_count": 42,
     "metadata": {},
     "output_type": "execute_result"
    }
   ],
   "source": [
    "w = \"Abhishek\"\n",
    "type(w)"
   ]
  },
  {
   "cell_type": "code",
   "execution_count": 43,
   "metadata": {},
   "outputs": [
    {
     "data": {
      "text/plain": [
       "list"
      ]
     },
     "execution_count": 43,
     "metadata": {},
     "output_type": "execute_result"
    }
   ],
   "source": [
    "v = [1,2,3,4]\n",
    "type(v)"
   ]
  },
  {
   "cell_type": "code",
   "execution_count": 44,
   "metadata": {},
   "outputs": [
    {
     "data": {
      "text/plain": [
       "tuple"
      ]
     },
     "execution_count": 44,
     "metadata": {},
     "output_type": "execute_result"
    }
   ],
   "source": [
    "u = (1,2,3,4)\n",
    "type(u)"
   ]
  },
  {
   "cell_type": "code",
   "execution_count": 45,
   "metadata": {},
   "outputs": [
    {
     "data": {
      "text/plain": [
       "set"
      ]
     },
     "execution_count": 45,
     "metadata": {},
     "output_type": "execute_result"
    }
   ],
   "source": [
    "t = {1,2,3}\n",
    "type(t)"
   ]
  },
  {
   "cell_type": "markdown",
   "metadata": {},
   "source": [
    "#Create a Markdown cell in Jupyter and list the steps discussed in the session by Dr. Darshan\n",
    "Ingle sir to create a Github profile and upload the Githubs Assignment link.\n",
    "\n",
    "create a Github account\n",
    "create the repository\n",
    "upload the file into that"
   ]
  }
 ],
 "metadata": {
  "kernelspec": {
   "display_name": "Python 3",
   "language": "python",
   "name": "python3"
  },
  "language_info": {
   "codemirror_mode": {
    "name": "ipython",
    "version": 3
   },
   "file_extension": ".py",
   "mimetype": "text/x-python",
   "name": "python",
   "nbconvert_exporter": "python",
   "pygments_lexer": "ipython3",
   "version": "3.7.6"
  }
 },
 "nbformat": 4,
 "nbformat_minor": 4
}
