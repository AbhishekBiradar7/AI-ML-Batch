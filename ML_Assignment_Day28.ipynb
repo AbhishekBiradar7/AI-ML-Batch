{
 "cells": [
  {
   "cell_type": "code",
   "execution_count": 20,
   "metadata": {},
   "outputs": [
    {
     "name": "stdout",
     "output_type": "stream",
     "text": [
      "Confusion matrix : \n",
      " [[2 2]\n",
      " [1 5]]\n",
      "Outcome values : \n",
      " 2 2 1 5\n",
      "Classification report : \n",
      "               precision    recall  f1-score   support\n",
      "\n",
      "           1       0.67      0.50      0.57         4\n",
      "           0       0.71      0.83      0.77         6\n",
      "\n",
      "    accuracy                           0.70        10\n",
      "   macro avg       0.69      0.67      0.67        10\n",
      "weighted avg       0.70      0.70      0.69        10\n",
      "\n"
     ]
    }
   ],
   "source": [
    "#Create one array of actual values and another array of predicted values. Compare the two sets with the confusion matrix.\n",
    "from sklearn.metrics import confusion_matrix\n",
    "from sklearn.metrics import classification_report\n",
    "\n",
    "# actual values\n",
    "actual = [1,0,0,1,0,0,1,0,0,1]\n",
    "# predicted values\n",
    "predicted = [1,0,0,1,0,0,0,1,0,0]\n",
    "\n",
    "# confusion matrix\n",
    "matrix = confusion_matrix(actual,predicted, labels=[1,0])\n",
    "print('Confusion matrix : \\n',matrix)\n",
    "\n",
    "# outcome values order in sklearn\n",
    "tp, fn, fp, tn = confusion_matrix(actual,predicted,labels=[1,0]).reshape(-1)\n",
    "print('Outcome values : \\n', tp, fn, fp, tn)\n",
    "\n",
    "# classification report for precision, recall f1-score and accuracy\n",
    "matrix = classification_report(actual,predicted,labels=[1,0])\n",
    "print('Classification report : \\n',matrix)\n",
    "\n",
    "\n"
   ]
  },
  {
   "cell_type": "code",
   "execution_count": 7,
   "metadata": {},
   "outputs": [],
   "source": [
    "# Question 2\n",
    "\n",
    "TP=42\n",
    "FN=18\n",
    "TN=32\n",
    "FP=8\n",
    "\n"
   ]
  },
  {
   "cell_type": "code",
   "execution_count": 21,
   "metadata": {},
   "outputs": [
    {
     "name": "stdout",
     "output_type": "stream",
     "text": [
      "Recall 0.7\n"
     ]
    }
   ],
   "source": [
    "recall = TP / (TP+FN)\n",
    "print('Recall',recall)"
   ]
  },
  {
   "cell_type": "code",
   "execution_count": 23,
   "metadata": {},
   "outputs": [
    {
     "name": "stdout",
     "output_type": "stream",
     "text": [
      "Precision 0.84\n"
     ]
    }
   ],
   "source": [
    "precision = TP / (TP+FP)\n",
    "print('Precision',precision)"
   ]
  },
  {
   "cell_type": "code",
   "execution_count": 19,
   "metadata": {},
   "outputs": [
    {
     "name": "stdout",
     "output_type": "stream",
     "text": [
      "F1_Score 0.7636363636363636\n"
     ]
    }
   ],
   "source": [
    "f1_score = 2*(recall*precision)/(recall+precision)\n",
    "print('F1_Score',f1_score)"
   ]
  },
  {
   "cell_type": "code",
   "execution_count": 25,
   "metadata": {},
   "outputs": [
    {
     "name": "stdout",
     "output_type": "stream",
     "text": [
      "  FN    FP   TP     pre   acc   rec   f1\n",
      "  0.00  0.00 68.00  1.00  1.00  1.00  1.00\n",
      "  1.00  0.00 67.00  1.00  0.99  0.99  0.99\n",
      "  1.00  1.00 66.00  0.99  0.98  0.99  0.99\n",
      "  2.00  0.00 66.00  1.00  0.98  0.97  0.99\n",
      "  2.00  1.00 65.00  0.98  0.97  0.97  0.98\n",
      "  2.00  2.00 64.00  0.97  0.96  0.97  0.97\n",
      "  3.00  0.00 65.00  1.00  0.97  0.96  0.98\n",
      "  3.00  1.00 64.00  0.98  0.96  0.96  0.97\n",
      "  3.00  2.00 63.00  0.97  0.95  0.95  0.96\n",
      "  3.00  3.00 62.00  0.95  0.94  0.95  0.95\n",
      "  4.00  0.00 64.00  1.00  0.96  0.94  0.97\n",
      "  4.00  1.00 63.00  0.98  0.95  0.94  0.96\n",
      "  4.00  2.00 62.00  0.97  0.94  0.94  0.95\n",
      "  4.00  3.00 61.00  0.95  0.93  0.94  0.95\n",
      "  4.00  4.00 60.00  0.94  0.92  0.94  0.94\n",
      "  5.00  0.00 63.00  1.00  0.95  0.93  0.96\n",
      "  5.00  1.00 62.00  0.98  0.94  0.93  0.95\n",
      "  5.00  2.00 61.00  0.97  0.93  0.92  0.95\n",
      "  5.00  3.00 60.00  0.95  0.92  0.92  0.94\n",
      "  5.00  4.00 59.00  0.94  0.91  0.92  0.93\n",
      "  5.00  5.00 58.00  0.92  0.90  0.92  0.92\n",
      "  6.00  0.00 62.00  1.00  0.94  0.91  0.95\n",
      "  6.00  1.00 61.00  0.98  0.93  0.91  0.95\n",
      "  6.00  2.00 60.00  0.97  0.92  0.91  0.94\n",
      "  6.00  3.00 59.00  0.95  0.91  0.91  0.93\n",
      "  6.00  4.00 58.00  0.94  0.90  0.91  0.92\n",
      "  6.00  5.00 57.00  0.92  0.89  0.90  0.91\n",
      "  6.00  6.00 56.00  0.90  0.88  0.90  0.90\n"
     ]
    }
   ],
   "source": [
    "print(\"  FN    FP   TP     pre   acc   rec   f1\")\n",
    "for FN in range(0, 7):\n",
    "    for FP in range(0, FN+1):\n",
    "        # the sum of FN, FP, TF and TP will be 100:\n",
    "        TP = 100 - FN - FP - TN\n",
    "        #print(FN, FP, TP, FN+FP+TP+TF)\n",
    "        precision = TP / (TP + FP)\n",
    "        accuracy = (TP + TN)/(TP + TN + FP + FN)\n",
    "        recall = TP / (TP + FN)\n",
    "        f1_score = 2 * precision * recall / (precision + recall)\n",
    "        print(f\"{FN:6.2f}{FP:6.2f}{TP:6.2f}\", end=\"\")\n",
    "        print(f\"{precision:6.2f}{accuracy:6.2f}{recall:6.2f}{f1_score:6.2f}\")"
   ]
  },
  {
   "cell_type": "markdown",
   "metadata": {},
   "source": [
    "Answer\n",
    " FN    FP    TP     pre   acc   rec   f1\n",
    " 3.00  3.00  62.00  0.95  0.94  0.95  0.95"
   ]
  }
 ],
 "metadata": {
  "kernelspec": {
   "display_name": "Python 3",
   "language": "python",
   "name": "python3"
  },
  "language_info": {
   "codemirror_mode": {
    "name": "ipython",
    "version": 3
   },
   "file_extension": ".py",
   "mimetype": "text/x-python",
   "name": "python",
   "nbconvert_exporter": "python",
   "pygments_lexer": "ipython3",
   "version": "3.7.6"
  }
 },
 "nbformat": 4,
 "nbformat_minor": 4
}
