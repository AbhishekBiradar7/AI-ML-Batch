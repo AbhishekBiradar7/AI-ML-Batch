{
 "cells": [
  {
   "cell_type": "code",
   "execution_count": 40,
   "metadata": {},
   "outputs": [
    {
     "name": "stdout",
     "output_type": "stream",
     "text": [
      "1 3\n",
      "2 5\n",
      "3 7\n",
      "4 11\n",
      "5 13\n",
      "6 17\n",
      "7 19\n",
      "8 23\n",
      "9 29\n",
      "10 31\n",
      "11 37\n",
      "12 41\n",
      "13 43\n",
      "14 47\n",
      "15 53\n",
      "16 59\n",
      "17 61\n",
      "18 67\n",
      "19 71\n",
      "20 73\n"
     ]
    }
   ],
   "source": [
    "#Write a Python program to find the first 20 non-even prime natural numbers.\n",
    "\n",
    "a = 0\n",
    "b = 0\n",
    "for i in range(2,100):\n",
    "    if a == 20:\n",
    "        break\n",
    "    b = 0\n",
    "    for j in range(2,i):\n",
    "            if i%j == 0 :\n",
    "                b = 1\n",
    "    if b != 1 :\n",
    "        if i%2 != 0:\n",
    "            a = a+1\n",
    "            print(a,i)\n",
    "        "
   ]
  },
  {
   "cell_type": "code",
   "execution_count": 62,
   "metadata": {},
   "outputs": [
    {
     "name": "stdout",
     "output_type": "stream",
     "text": [
      "AbhishekBiradar\n",
      "AbhishekAbhishek\n",
      "abhishek\n",
      "BIRADAR\n",
      "lETSUPGRADE\n",
      "s\n",
      "A\n",
      "Hello good morning\n",
      "Hello Good Morning\n",
      "False\n",
      "True\n",
      "False\n",
      "Eello good morning\n",
      "False\n",
      "True\n",
      "2\n",
      "3\n",
      "['hello', 'good', 'morning']\n"
     ]
    }
   ],
   "source": [
    "# Write a Python program to implement 15 functions of string.\n",
    "\n",
    "a = 'Abhishek'\n",
    "b = 'Biradar'\n",
    "c = 'Letsupgrade'\n",
    "d = 'hello good morning'\n",
    "e = '123456789'\n",
    "print(a + b)\n",
    "print(a*2)\n",
    "print(a.lower())\n",
    "print(b.upper())\n",
    "print(c.swapcase())\n",
    "print(max(a))\n",
    "print(min(a))\n",
    "print(d.capitalize())\n",
    "print(d.title())\n",
    "print(d.isdigit())\n",
    "print(d.islower())\n",
    "print(d.isupper())\n",
    "print(d.replace(\"h\",\"E\"))\n",
    "print(a.isspace())\n",
    "print(e.isnumeric())\n",
    "print(a.count('h'))\n",
    "print(b.index('a'))\n",
    "print(d.split())"
   ]
  },
  {
   "cell_type": "code",
   "execution_count": 14,
   "metadata": {},
   "outputs": [
    {
     "data": {
      "text/plain": [
       "['__add__',\n",
       " '__class__',\n",
       " '__contains__',\n",
       " '__delattr__',\n",
       " '__dir__',\n",
       " '__doc__',\n",
       " '__eq__',\n",
       " '__format__',\n",
       " '__ge__',\n",
       " '__getattribute__',\n",
       " '__getitem__',\n",
       " '__getnewargs__',\n",
       " '__gt__',\n",
       " '__hash__',\n",
       " '__init__',\n",
       " '__init_subclass__',\n",
       " '__iter__',\n",
       " '__le__',\n",
       " '__len__',\n",
       " '__lt__',\n",
       " '__mod__',\n",
       " '__mul__',\n",
       " '__ne__',\n",
       " '__new__',\n",
       " '__reduce__',\n",
       " '__reduce_ex__',\n",
       " '__repr__',\n",
       " '__rmod__',\n",
       " '__rmul__',\n",
       " '__setattr__',\n",
       " '__sizeof__',\n",
       " '__str__',\n",
       " '__subclasshook__',\n",
       " 'capitalize',\n",
       " 'casefold',\n",
       " 'center',\n",
       " 'count',\n",
       " 'encode',\n",
       " 'endswith',\n",
       " 'expandtabs',\n",
       " 'find',\n",
       " 'format',\n",
       " 'format_map',\n",
       " 'index',\n",
       " 'isalnum',\n",
       " 'isalpha',\n",
       " 'isascii',\n",
       " 'isdecimal',\n",
       " 'isdigit',\n",
       " 'isidentifier',\n",
       " 'islower',\n",
       " 'isnumeric',\n",
       " 'isprintable',\n",
       " 'isspace',\n",
       " 'istitle',\n",
       " 'isupper',\n",
       " 'join',\n",
       " 'ljust',\n",
       " 'lower',\n",
       " 'lstrip',\n",
       " 'maketrans',\n",
       " 'partition',\n",
       " 'replace',\n",
       " 'rfind',\n",
       " 'rindex',\n",
       " 'rjust',\n",
       " 'rpartition',\n",
       " 'rsplit',\n",
       " 'rstrip',\n",
       " 'split',\n",
       " 'splitlines',\n",
       " 'startswith',\n",
       " 'strip',\n",
       " 'swapcase',\n",
       " 'title',\n",
       " 'translate',\n",
       " 'upper',\n",
       " 'zfill']"
      ]
     },
     "execution_count": 14,
     "metadata": {},
     "output_type": "execute_result"
    }
   ],
   "source": [
    "dir(str)"
   ]
  },
  {
   "cell_type": "code",
   "execution_count": 29,
   "metadata": {},
   "outputs": [
    {
     "name": "stdout",
     "output_type": "stream",
     "text": [
      "Enter a word:\n",
      "malayalam\n",
      "malayalam Its a palindrome\n"
     ]
    }
   ],
   "source": [
    "#Write a Python program to check if the given string is a Palindrome or Anagram or None of them. Display\n",
    "#the message accordingly to the user.\n",
    "\n",
    "print(\"Enter a word:\")\n",
    "a = input()\n",
    "b = a[::-1]\n",
    "if b==a:\n",
    "    print(a,\"Its a palindrome\")\n",
    "else:\n",
    "    print(a,\"not a palindrome\")"
   ]
  },
  {
   "cell_type": "code",
   "execution_count": 35,
   "metadata": {},
   "outputs": [
    {
     "name": "stdout",
     "output_type": "stream",
     "text": [
      "drdarshaningleaimltrainer\n"
     ]
    }
   ],
   "source": [
    "#Write a Python's user-defined function that removes all the additional characters from the string and\n",
    "#convert it finally to lower case using built-in lower(). eg: If the string is \"Dr. Darshan Ingle @AIML Trainer\",\n",
    "#then the output be \"drdarshaningleaimltrainer\".\n",
    "\n",
    "a = \"Dr. Darshan Ingle @AIML Trainer\"\n",
    "\n",
    "def RC(b):\n",
    "    char = [\".\",\"@\",\" \"]\n",
    "    for i in char:\n",
    "        b = b.replace(i,'')\n",
    "    print(b.lower())\n",
    "RC(a)"
   ]
  },
  {
   "cell_type": "code",
   "execution_count": null,
   "metadata": {},
   "outputs": [],
   "source": []
  }
 ],
 "metadata": {
  "kernelspec": {
   "display_name": "Python 3",
   "language": "python",
   "name": "python3"
  },
  "language_info": {
   "codemirror_mode": {
    "name": "ipython",
    "version": 3
   },
   "file_extension": ".py",
   "mimetype": "text/x-python",
   "name": "python",
   "nbconvert_exporter": "python",
   "pygments_lexer": "ipython3",
   "version": "3.7.6"
  }
 },
 "nbformat": 4,
 "nbformat_minor": 4
}
