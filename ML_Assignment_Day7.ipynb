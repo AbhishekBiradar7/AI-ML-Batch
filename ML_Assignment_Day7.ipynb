{
 "cells": [
  {
   "cell_type": "code",
   "execution_count": 2,
   "metadata": {},
   "outputs": [
    {
     "name": "stdout",
     "output_type": "stream",
     "text": [
      "Hello abhishek\n"
     ]
    }
   ],
   "source": [
    "#Write a program to copy the contents of one file to another using a for loop. (Don’t use built-in copy function)\n",
    "\n",
    "\n",
    "fn = open('t1.txt', 'r') \n",
    "fn1 = open('t2.txt', 'w')\n",
    "\n",
    "cont = fn.readlines() \n",
    "type(cont) \n",
    "for i in range(0, len(cont)): \n",
    "    fn1.write(cont[i])\n",
    "\n",
    "fn1.close()\n",
    "\n",
    "fn1 = open('t1.txt', 'r')\n",
    "cont1 = fn1.read() \n",
    "print(cont1)\n",
    "\n",
    "fn.close() \n",
    "fn1.close() "
   ]
  },
  {
   "cell_type": "code",
   "execution_count": 5,
   "metadata": {},
   "outputs": [
    {
     "data": {
      "text/plain": [
       "0"
      ]
     },
     "execution_count": 5,
     "metadata": {},
     "output_type": "execute_result"
    }
   ],
   "source": [
    "#Write a Python program to find maximum and minimum values in the dictionary. Do not use built-in min and max functions.\n",
    "\n",
    "\n",
    "def min(list):\n",
    "    current_min = list[0]\n",
    "    for num in list:\n",
    "        if num < current_min:\n",
    "            current_min = num\n",
    "    return current_min\n",
    "\n",
    "min([1,2,3,4,5,0])"
   ]
  },
  {
   "cell_type": "code",
   "execution_count": 7,
   "metadata": {},
   "outputs": [
    {
     "data": {
      "text/plain": [
       "60"
      ]
     },
     "execution_count": 7,
     "metadata": {},
     "output_type": "execute_result"
    }
   ],
   "source": [
    "def max(list):\n",
    "    current_max = list[0]\n",
    "    for num in list:\n",
    "        if num > current_max:\n",
    "            current_max = num\n",
    "    return current_max\n",
    "\n",
    "max([10,20,30,40,50,60,55,32,45])"
   ]
  }
 ],
 "metadata": {
  "kernelspec": {
   "display_name": "Python 3",
   "language": "python",
   "name": "python3"
  },
  "language_info": {
   "codemirror_mode": {
    "name": "ipython",
    "version": 3
   },
   "file_extension": ".py",
   "mimetype": "text/x-python",
   "name": "python",
   "nbconvert_exporter": "python",
   "pygments_lexer": "ipython3",
   "version": "3.7.6"
  }
 },
 "nbformat": 4,
 "nbformat_minor": 4
}
