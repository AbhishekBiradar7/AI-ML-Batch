{
 "cells": [
  {
   "cell_type": "markdown",
   "metadata": {},
   "source": [
    "# MAP \n",
    "Map(function,iterables)"
   ]
  },
  {
   "cell_type": "code",
   "execution_count": 7,
   "metadata": {},
   "outputs": [
    {
     "data": {
      "text/plain": [
       "[121, 144, 169, 196, 225]"
      ]
     },
     "execution_count": 7,
     "metadata": {},
     "output_type": "execute_result"
    }
   ],
   "source": [
    "def sq(a):\n",
    "    return a*a\n",
    "list(map(sq,[11,12,13,14,15]))"
   ]
  },
  {
   "cell_type": "code",
   "execution_count": 13,
   "metadata": {},
   "outputs": [
    {
     "data": {
      "text/plain": [
       "[200]"
      ]
     },
     "execution_count": 13,
     "metadata": {},
     "output_type": "execute_result"
    }
   ],
   "source": [
    "def sq(a,b):\n",
    "    return a*b\n",
    "list(map(sq,[10],[20]))"
   ]
  },
  {
   "cell_type": "markdown",
   "metadata": {},
   "source": [
    "# L ambda\n",
    "lambda arguments:expression"
   ]
  },
  {
   "cell_type": "code",
   "execution_count": 15,
   "metadata": {},
   "outputs": [
    {
     "data": {
      "text/plain": [
       "125"
      ]
     },
     "execution_count": 15,
     "metadata": {},
     "output_type": "execute_result"
    }
   ],
   "source": [
    "x = lambda a:a*a*a\n",
    "x(5)"
   ]
  },
  {
   "cell_type": "code",
   "execution_count": 6,
   "metadata": {},
   "outputs": [
    {
     "data": {
      "text/plain": [
       "19"
      ]
     },
     "execution_count": 6,
     "metadata": {},
     "output_type": "execute_result"
    }
   ],
   "source": [
    "a =  lambda x,y: 11*x+4*y\n",
    "a(1,2)"
   ]
  },
  {
   "cell_type": "code",
   "execution_count": 8,
   "metadata": {},
   "outputs": [
    {
     "data": {
      "text/plain": [
       "[20, 30, 40, 50, 60]"
      ]
     },
     "execution_count": 8,
     "metadata": {},
     "output_type": "execute_result"
    }
   ],
   "source": [
    "#Using lambda functions along with map\n",
    "\n",
    "\n",
    "l = [10,20,30,40,50]\n",
    "a = map(lambda x:x+10,l)\n",
    "list(a)"
   ]
  },
  {
   "cell_type": "markdown",
   "metadata": {},
   "source": [
    "# Filter\n",
    "filter(function,iterables)"
   ]
  },
  {
   "cell_type": "code",
   "execution_count": 10,
   "metadata": {},
   "outputs": [
    {
     "name": "stdout",
     "output_type": "stream",
     "text": [
      "[20, 25, 30, 35, 40, 45, 50]\n"
     ]
    }
   ],
   "source": [
    "def less(a):\n",
    "    if a>=20:\n",
    "        return a\n",
    "x = filter (less,[5,10,15,20,25,30,35,40,45,50])\n",
    "print(list(x))\n",
    "        "
   ]
  },
  {
   "cell_type": "code",
   "execution_count": 12,
   "metadata": {},
   "outputs": [
    {
     "data": {
      "text/plain": [
       "[20, 25, 30, 35, 40, 45, 50]"
      ]
     },
     "execution_count": 12,
     "metadata": {},
     "output_type": "execute_result"
    }
   ],
   "source": [
    "#Using filter function using lambda\n",
    "\n",
    "l=[5,10,15,20,25,30,35,40,45,50]\n",
    "list(filter(lambda x:x>=20,l))"
   ]
  },
  {
   "cell_type": "markdown",
   "metadata": {},
   "source": [
    "# Reduce\n",
    "reduce(function,iterables)\n"
   ]
  },
  {
   "cell_type": "code",
   "execution_count": 19,
   "metadata": {},
   "outputs": [
    {
     "name": "stdout",
     "output_type": "stream",
     "text": [
      "55\n"
     ]
    }
   ],
   "source": [
    "from functools import reduce\n",
    "\n",
    "def sqr(a,i):\n",
    "    return a+i\n",
    "x = reduce(sqr,[1,2,3,4,5,6,7,8,9,10])\n",
    "print(x)"
   ]
  },
  {
   "cell_type": "code",
   "execution_count": 24,
   "metadata": {},
   "outputs": [
    {
     "data": {
      "text/plain": [
       "10"
      ]
     },
     "execution_count": 24,
     "metadata": {},
     "output_type": "execute_result"
    }
   ],
   "source": [
    "#Using Reduce with lambda\n",
    "\n",
    "reduce(lambda x,y:x+y,[0,1,2,3,4])"
   ]
  },
  {
   "cell_type": "code",
   "execution_count": 27,
   "metadata": {},
   "outputs": [
    {
     "data": {
      "text/plain": [
       "[12, 16, 20, 24, 28, 32, 36]"
      ]
     },
     "execution_count": 27,
     "metadata": {},
     "output_type": "execute_result"
    }
   ],
   "source": [
    "#Filter with map\n",
    "\n",
    "x = map(lambda x:x+x,filter(lambda x: x>=5,[2,4,6,8,10,12,14,16,18]))\n",
    "list(x)"
   ]
  },
  {
   "cell_type": "code",
   "execution_count": 31,
   "metadata": {},
   "outputs": [
    {
     "name": "stdout",
     "output_type": "stream",
     "text": [
      "168\n"
     ]
    }
   ],
   "source": [
    "#map and filter within reduce\n",
    "\n",
    "x = reduce(lambda x,y:x+y,map(lambda x:x+x,filter(lambda x:x>=5,(2,4,6,8,10,12,14,16,18))))\n",
    "print(x)"
   ]
  },
  {
   "cell_type": "markdown",
   "metadata": {},
   "source": [
    "#Recreate your own Python NB for “Classes and Objects” from the pdf provided namely\n",
    "“Classes&Objects.pdf”"
   ]
  },
  {
   "cell_type": "code",
   "execution_count": 35,
   "metadata": {},
   "outputs": [
    {
     "name": "stdout",
     "output_type": "stream",
     "text": [
      "Hello Abhishek\n",
      "Hello Abhishek\n"
     ]
    }
   ],
   "source": [
    "class abc:\n",
    "    def show(self):\n",
    "        print(\"Hello Abhishek\")\n",
    "a=abc()\n",
    "a.show()\n",
    "b=abc()\n",
    "b.show()"
   ]
  },
  {
   "cell_type": "code",
   "execution_count": 37,
   "metadata": {},
   "outputs": [
    {
     "name": "stdout",
     "output_type": "stream",
     "text": [
      "Hello Abhishek\n",
      "1\n"
     ]
    }
   ],
   "source": [
    "#Using private Variables\n",
    "\n",
    "class abc:\n",
    "    a=1\n",
    "    _b=2\n",
    "    def show(slef):\n",
    "        print(\"Hello Abhishek\")\n",
    "c=abc()\n",
    "a.show()\n",
    "print(c.a)"
   ]
  },
  {
   "cell_type": "code",
   "execution_count": 9,
   "metadata": {},
   "outputs": [
    {
     "name": "stdout",
     "output_type": "stream",
     "text": [
      "<__main__.xyz object at 0x0000022815950188>\n"
     ]
    }
   ],
   "source": [
    "#Instances as arguments\n",
    "\n",
    "class xyz:\n",
    "    def _init_ (self,n):\n",
    "        self.n1=n+1\n",
    "        print(n)\n",
    "        print(self.n1)\n",
    "        print(self.n1*n)\n",
    "s = xyz()\n",
    "print(s)"
   ]
  },
  {
   "cell_type": "code",
   "execution_count": 12,
   "metadata": {},
   "outputs": [
    {
     "name": "stdout",
     "output_type": "stream",
     "text": [
      "Good Morning\n"
     ]
    }
   ],
   "source": [
    "class xyz:\n",
    "    def _init_ (self):\n",
    "        print(\"I am Abhishek\")\n",
    "        print(\"Hello Letsupgrade\")\n",
    "        \n",
    "    def show(self):\n",
    "        print(\"Good Morning\")\n",
    "s = xyz()\n",
    "s.show()"
   ]
  },
  {
   "cell_type": "code",
   "execution_count": 13,
   "metadata": {},
   "outputs": [
    {
     "data": {
      "text/plain": [
       "7"
      ]
     },
     "execution_count": 13,
     "metadata": {},
     "output_type": "execute_result"
    }
   ],
   "source": [
    "# Instances as return values\n",
    "\n",
    "class st:\n",
    "    def add (self,a,b):\n",
    "        self.a=a\n",
    "        self.b=b\n",
    "        return self.a+self.b\n",
    "\n",
    "s=st()\n",
    "s.add(4,3)"
   ]
  },
  {
   "cell_type": "code",
   "execution_count": 14,
   "metadata": {},
   "outputs": [
    {
     "name": "stdout",
     "output_type": "stream",
     "text": [
      "4 3\n",
      "4 3\n",
      "4 3\n",
      "99 88\n"
     ]
    }
   ],
   "source": [
    "class st:\n",
    "    def add(self,a,b):\n",
    "        a1=a\n",
    "        b1=b\n",
    "        print(a1,b1)\n",
    "        print(a,b)\n",
    "        a=99\n",
    "        b=88\n",
    "        print(a1,b1)\n",
    "        print(a,b)\n",
    "s = st()\n",
    "s.add(4,3)"
   ]
  },
  {
   "cell_type": "code",
   "execution_count": null,
   "metadata": {},
   "outputs": [],
   "source": []
  }
 ],
 "metadata": {
  "kernelspec": {
   "display_name": "Python 3",
   "language": "python",
   "name": "python3"
  },
  "language_info": {
   "codemirror_mode": {
    "name": "ipython",
    "version": 3
   },
   "file_extension": ".py",
   "mimetype": "text/x-python",
   "name": "python",
   "nbconvert_exporter": "python",
   "pygments_lexer": "ipython3",
   "version": "3.7.6"
  }
 },
 "nbformat": 4,
 "nbformat_minor": 4
}
