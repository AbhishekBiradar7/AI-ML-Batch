{
 "cells": [
  {
   "cell_type": "markdown",
   "metadata": {},
   "source": [
    "Question 1:\n",
    "● Using the given MT cars dataset you need to find outlier with z score."
   ]
  },
  {
   "cell_type": "code",
   "execution_count": 66,
   "metadata": {},
   "outputs": [],
   "source": [
    "import numpy as np\n",
    "import pandas as pd\n",
    "import matplotlib.pyplot as plt\n",
    "%matplotlib inline"
   ]
  },
  {
   "cell_type": "code",
   "execution_count": 27,
   "metadata": {},
   "outputs": [],
   "source": [
    "import os\n",
    "os.chdir(\"D:\\Letsupgrade\\Statistic notes\\Stats Assignment\")\n",
    "mt=pd.read_csv(\"mtcars.csv\")"
   ]
  },
  {
   "cell_type": "code",
   "execution_count": 28,
   "metadata": {},
   "outputs": [
    {
     "data": {
      "text/html": [
       "<div>\n",
       "<style scoped>\n",
       "    .dataframe tbody tr th:only-of-type {\n",
       "        vertical-align: middle;\n",
       "    }\n",
       "\n",
       "    .dataframe tbody tr th {\n",
       "        vertical-align: top;\n",
       "    }\n",
       "\n",
       "    .dataframe thead th {\n",
       "        text-align: right;\n",
       "    }\n",
       "</style>\n",
       "<table border=\"1\" class=\"dataframe\">\n",
       "  <thead>\n",
       "    <tr style=\"text-align: right;\">\n",
       "      <th></th>\n",
       "      <th>model</th>\n",
       "      <th>mpg</th>\n",
       "      <th>cyl</th>\n",
       "      <th>disp</th>\n",
       "      <th>hp</th>\n",
       "      <th>drat</th>\n",
       "      <th>wt</th>\n",
       "      <th>qsec</th>\n",
       "      <th>vs</th>\n",
       "      <th>am</th>\n",
       "      <th>gear</th>\n",
       "      <th>carb</th>\n",
       "    </tr>\n",
       "  </thead>\n",
       "  <tbody>\n",
       "    <tr>\n",
       "      <th>0</th>\n",
       "      <td>Mazda RX4</td>\n",
       "      <td>21.0</td>\n",
       "      <td>6</td>\n",
       "      <td>160.0</td>\n",
       "      <td>110</td>\n",
       "      <td>3.90</td>\n",
       "      <td>2.620</td>\n",
       "      <td>16.46</td>\n",
       "      <td>0</td>\n",
       "      <td>1</td>\n",
       "      <td>4</td>\n",
       "      <td>4</td>\n",
       "    </tr>\n",
       "    <tr>\n",
       "      <th>1</th>\n",
       "      <td>Mazda RX4 Wag</td>\n",
       "      <td>21.0</td>\n",
       "      <td>6</td>\n",
       "      <td>160.0</td>\n",
       "      <td>110</td>\n",
       "      <td>3.90</td>\n",
       "      <td>2.875</td>\n",
       "      <td>17.02</td>\n",
       "      <td>0</td>\n",
       "      <td>1</td>\n",
       "      <td>4</td>\n",
       "      <td>4</td>\n",
       "    </tr>\n",
       "    <tr>\n",
       "      <th>2</th>\n",
       "      <td>Datsun 710</td>\n",
       "      <td>22.8</td>\n",
       "      <td>4</td>\n",
       "      <td>108.0</td>\n",
       "      <td>93</td>\n",
       "      <td>3.85</td>\n",
       "      <td>2.320</td>\n",
       "      <td>18.61</td>\n",
       "      <td>1</td>\n",
       "      <td>1</td>\n",
       "      <td>4</td>\n",
       "      <td>1</td>\n",
       "    </tr>\n",
       "    <tr>\n",
       "      <th>3</th>\n",
       "      <td>Hornet 4 Drive</td>\n",
       "      <td>21.4</td>\n",
       "      <td>6</td>\n",
       "      <td>258.0</td>\n",
       "      <td>110</td>\n",
       "      <td>3.08</td>\n",
       "      <td>3.215</td>\n",
       "      <td>19.44</td>\n",
       "      <td>1</td>\n",
       "      <td>0</td>\n",
       "      <td>3</td>\n",
       "      <td>1</td>\n",
       "    </tr>\n",
       "    <tr>\n",
       "      <th>4</th>\n",
       "      <td>Hornet Sportabout</td>\n",
       "      <td>18.7</td>\n",
       "      <td>8</td>\n",
       "      <td>360.0</td>\n",
       "      <td>175</td>\n",
       "      <td>3.15</td>\n",
       "      <td>3.440</td>\n",
       "      <td>17.02</td>\n",
       "      <td>0</td>\n",
       "      <td>0</td>\n",
       "      <td>3</td>\n",
       "      <td>2</td>\n",
       "    </tr>\n",
       "  </tbody>\n",
       "</table>\n",
       "</div>"
      ],
      "text/plain": [
       "               model   mpg  cyl   disp   hp  drat     wt   qsec  vs  am  gear  \\\n",
       "0          Mazda RX4  21.0    6  160.0  110  3.90  2.620  16.46   0   1     4   \n",
       "1      Mazda RX4 Wag  21.0    6  160.0  110  3.90  2.875  17.02   0   1     4   \n",
       "2         Datsun 710  22.8    4  108.0   93  3.85  2.320  18.61   1   1     4   \n",
       "3     Hornet 4 Drive  21.4    6  258.0  110  3.08  3.215  19.44   1   0     3   \n",
       "4  Hornet Sportabout  18.7    8  360.0  175  3.15  3.440  17.02   0   0     3   \n",
       "\n",
       "   carb  \n",
       "0     4  \n",
       "1     4  \n",
       "2     1  \n",
       "3     1  \n",
       "4     2  "
      ]
     },
     "execution_count": 28,
     "metadata": {},
     "output_type": "execute_result"
    }
   ],
   "source": [
    "mt.head()"
   ]
  },
  {
   "cell_type": "code",
   "execution_count": 29,
   "metadata": {},
   "outputs": [
    {
     "data": {
      "text/plain": [
       "(32, 12)"
      ]
     },
     "execution_count": 29,
     "metadata": {},
     "output_type": "execute_result"
    }
   ],
   "source": [
    "mt.shape"
   ]
  },
  {
   "cell_type": "code",
   "execution_count": 30,
   "metadata": {},
   "outputs": [
    {
     "name": "stderr",
     "output_type": "stream",
     "text": [
      "C:\\Users\\abhis\\Anaconda3\\lib\\importlib\\_bootstrap.py:219: RuntimeWarning: numpy.ufunc size changed, may indicate binary incompatibility. Expected 192 from C header, got 216 from PyObject\n",
      "  return f(*args, **kwds)\n",
      "C:\\Users\\abhis\\Anaconda3\\lib\\importlib\\_bootstrap.py:219: RuntimeWarning: numpy.ufunc size changed, may indicate binary incompatibility. Expected 192 from C header, got 216 from PyObject\n",
      "  return f(*args, **kwds)\n",
      "C:\\Users\\abhis\\Anaconda3\\lib\\importlib\\_bootstrap.py:219: RuntimeWarning: numpy.ufunc size changed, may indicate binary incompatibility. Expected 192 from C header, got 216 from PyObject\n",
      "  return f(*args, **kwds)\n",
      "C:\\Users\\abhis\\Anaconda3\\lib\\importlib\\_bootstrap.py:219: RuntimeWarning: numpy.ufunc size changed, may indicate binary incompatibility. Expected 192 from C header, got 216 from PyObject\n",
      "  return f(*args, **kwds)\n"
     ]
    },
    {
     "data": {
      "text/plain": [
       "<matplotlib.axes._subplots.AxesSubplot at 0x29519ba32c8>"
      ]
     },
     "execution_count": 30,
     "metadata": {},
     "output_type": "execute_result"
    },
    {
     "data": {
      "image/png": "[encoded data removed]",
      "text/plain": [
       "<Figure size 432x288 with 1 Axes>"
      ]
     },
     "metadata": {
      "needs_background": "light"
     },
     "output_type": "display_data"
    }
   ],
   "source": [
    "import seaborn as sns\n",
    "sns.boxplot(data=mt,x=mt['hp'])"
   ]
  },
  {
   "cell_type": "code",
   "execution_count": 42,
   "metadata": {},
   "outputs": [],
   "source": [
    "outliers=[]\n",
    "def detect_outliers(data):\n",
    "    \n",
    "    threshold =3\n",
    "    mean =np.mean(data)\n",
    "    std =np.std(data)\n",
    "    \n",
    "    for i in data:\n",
    "        z_score = (i - mean)/std\n",
    "        if np.abs(z_score) > threshold:\n",
    "            outliers.append(i)\n",
    "    return outliers\n"
   ]
  },
  {
   "cell_type": "code",
   "execution_count": 49,
   "metadata": {},
   "outputs": [],
   "source": [
    "outliers_pt=detect_outliers(mt.hp)"
   ]
  },
  {
   "cell_type": "code",
   "execution_count": 44,
   "metadata": {},
   "outputs": [
    {
     "data": {
      "text/plain": [
       "[]"
      ]
     },
     "execution_count": 44,
     "metadata": {},
     "output_type": "execute_result"
    }
   ],
   "source": [
    "outliers_pt"
   ]
  },
  {
   "cell_type": "code",
   "execution_count": 47,
   "metadata": {},
   "outputs": [
    {
     "name": "stdout",
     "output_type": "stream",
     "text": [
      "[0.54365487 0.54365487 0.7955699  0.54365487 0.41954967 0.61774753\n",
      " 1.45684686 1.25494437 0.76593284 0.35101396 0.35101396 0.49364233\n",
      " 0.49364233 0.49364233 0.86410561 1.01229092 1.23456889 1.19567025\n",
      " 1.40312969 1.21048878 0.73629578 0.04908639 0.04908639 1.45684686\n",
      " 0.41954967 1.19567025 0.82520696 0.49919927 1.73839896 0.41954967\n",
      " 2.79051468 0.5584734 ]\n"
     ]
    }
   ],
   "source": [
    "from scipy import stats\n",
    "z=np.abs(stats.zscore(mt.hp))\n",
    "print(z)"
   ]
  },
  {
   "cell_type": "code",
   "execution_count": 48,
   "metadata": {},
   "outputs": [
    {
     "name": "stdout",
     "output_type": "stream",
     "text": [
      "(array([], dtype=int64),)\n"
     ]
    }
   ],
   "source": [
    "print(np.where(z>3))"
   ]
  },
  {
   "cell_type": "markdown",
   "metadata": {},
   "source": [
    "Question 2:\n",
    "● Using the Boston data set from sklearn, find out the Outlier and treat them."
   ]
  },
  {
   "cell_type": "code",
   "execution_count": 67,
   "metadata": {},
   "outputs": [],
   "source": [
    "from sklearn import neighbors,datasets,preprocessing\n",
    "from sklearn.model_selection import train_test_split\n",
    "from sklearn.metrics import accuracy_score\n",
    "import pandas as pd\n",
    "import numpy as np"
   ]
  },
  {
   "cell_type": "code",
   "execution_count": 68,
   "metadata": {},
   "outputs": [],
   "source": [
    "boston = datasets.load_boston()"
   ]
  },
  {
   "cell_type": "code",
   "execution_count": 69,
   "metadata": {},
   "outputs": [
    {
     "data": {
      "text/plain": [
       "array([24. , 21.6, 34.7, 33.4, 36.2, 28.7, 22.9, 27.1, 16.5, 18.9, 15. ,\n",
       "       18.9, 21.7, 20.4, 18.2, 19.9, 23.1, 17.5, 20.2, 18.2, 13.6, 19.6,\n",
       "       15.2, 14.5, 15.6, 13.9, 16.6, 14.8, 18.4, 21. , 12.7, 14.5, 13.2,\n",
       "       13.1, 13.5, 18.9, 20. , 21. , 24.7, 30.8, 34.9, 26.6, 25.3, 24.7,\n",
       "       21.2, 19.3, 20. , 16.6, 14.4, 19.4, 19.7, 20.5, 25. , 23.4, 18.9,\n",
       "       35.4, 24.7, 31.6, 23.3, 19.6, 18.7, 16. , 22.2, 25. , 33. , 23.5,\n",
       "       19.4, 22. , 17.4, 20.9, 24.2, 21.7, 22.8, 23.4, 24.1, 21.4, 20. ,\n",
       "       20.8, 21.2, 20.3, 28. , 23.9, 24.8, 22.9, 23.9, 26.6, 22.5, 22.2,\n",
       "       23.6, 28.7, 22.6, 22. , 22.9, 25. , 20.6, 28.4, 21.4, 38.7, 43.8,\n",
       "       33.2, 27.5, 26.5, 18.6, 19.3, 20.1, 19.5, 19.5, 20.4, 19.8, 19.4,\n",
       "       21.7, 22.8, 18.8, 18.7, 18.5, 18.3, 21.2, 19.2, 20.4, 19.3, 22. ,\n",
       "       20.3, 20.5, 17.3, 18.8, 21.4, 15.7, 16.2, 18. , 14.3, 19.2, 19.6,\n",
       "       23. , 18.4, 15.6, 18.1, 17.4, 17.1, 13.3, 17.8, 14. , 14.4, 13.4,\n",
       "       15.6, 11.8, 13.8, 15.6, 14.6, 17.8, 15.4, 21.5, 19.6, 15.3, 19.4,\n",
       "       17. , 15.6, 13.1, 41.3, 24.3, 23.3, 27. , 50. , 50. , 50. , 22.7,\n",
       "       25. , 50. , 23.8, 23.8, 22.3, 17.4, 19.1, 23.1, 23.6, 22.6, 29.4,\n",
       "       23.2, 24.6, 29.9, 37.2, 39.8, 36.2, 37.9, 32.5, 26.4, 29.6, 50. ,\n",
       "       32. , 29.8, 34.9, 37. , 30.5, 36.4, 31.1, 29.1, 50. , 33.3, 30.3,\n",
       "       34.6, 34.9, 32.9, 24.1, 42.3, 48.5, 50. , 22.6, 24.4, 22.5, 24.4,\n",
       "       20. , 21.7, 19.3, 22.4, 28.1, 23.7, 25. , 23.3, 28.7, 21.5, 23. ,\n",
       "       26.7, 21.7, 27.5, 30.1, 44.8, 50. , 37.6, 31.6, 46.7, 31.5, 24.3,\n",
       "       31.7, 41.7, 48.3, 29. , 24. , 25.1, 31.5, 23.7, 23.3, 22. , 20.1,\n",
       "       22.2, 23.7, 17.6, 18.5, 24.3, 20.5, 24.5, 26.2, 24.4, 24.8, 29.6,\n",
       "       42.8, 21.9, 20.9, 44. , 50. , 36. , 30.1, 33.8, 43.1, 48.8, 31. ,\n",
       "       36.5, 22.8, 30.7, 50. , 43.5, 20.7, 21.1, 25.2, 24.4, 35.2, 32.4,\n",
       "       32. , 33.2, 33.1, 29.1, 35.1, 45.4, 35.4, 46. , 50. , 32.2, 22. ,\n",
       "       20.1, 23.2, 22.3, 24.8, 28.5, 37.3, 27.9, 23.9, 21.7, 28.6, 27.1,\n",
       "       20.3, 22.5, 29. , 24.8, 22. , 26.4, 33.1, 36.1, 28.4, 33.4, 28.2,\n",
       "       22.8, 20.3, 16.1, 22.1, 19.4, 21.6, 23.8, 16.2, 17.8, 19.8, 23.1,\n",
       "       21. , 23.8, 23.1, 20.4, 18.5, 25. , 24.6, 23. , 22.2, 19.3, 22.6,\n",
       "       19.8, 17.1, 19.4, 22.2, 20.7, 21.1, 19.5, 18.5, 20.6, 19. , 18.7,\n",
       "       32.7, 16.5, 23.9, 31.2, 17.5, 17.2, 23.1, 24.5, 26.6, 22.9, 24.1,\n",
       "       18.6, 30.1, 18.2, 20.6, 17.8, 21.7, 22.7, 22.6, 25. , 19.9, 20.8,\n",
       "       16.8, 21.9, 27.5, 21.9, 23.1, 50. , 50. , 50. , 50. , 50. , 13.8,\n",
       "       13.8, 15. , 13.9, 13.3, 13.1, 10.2, 10.4, 10.9, 11.3, 12.3,  8.8,\n",
       "        7.2, 10.5,  7.4, 10.2, 11.5, 15.1, 23.2,  9.7, 13.8, 12.7, 13.1,\n",
       "       12.5,  8.5,  5. ,  6.3,  5.6,  7.2, 12.1,  8.3,  8.5,  5. , 11.9,\n",
       "       27.9, 17.2, 27.5, 15. , 17.2, 17.9, 16.3,  7. ,  7.2,  7.5, 10.4,\n",
       "        8.8,  8.4, 16.7, 14.2, 20.8, 13.4, 11.7,  8.3, 10.2, 10.9, 11. ,\n",
       "        9.5, 14.5, 14.1, 16.1, 14.3, 11.7, 13.4,  9.6,  8.7,  8.4, 12.8,\n",
       "       10.5, 17.1, 18.4, 15.4, 10.8, 11.8, 14.9, 12.6, 14.1, 13. , 13.4,\n",
       "       15.2, 16.1, 17.8, 14.9, 14.1, 12.7, 13.5, 14.9, 20. , 16.4, 17.7,\n",
       "       19.5, 20.2, 21.4, 19.9, 19. , 19.1, 19.1, 20.1, 19.9, 19.6, 23.2,\n",
       "       29.8, 13.8, 13.3, 16.7, 12. , 14.6, 21.4, 23. , 23.7, 25. , 21.8,\n",
       "       20.6, 21.2, 19.1, 20.6, 15.2,  7. ,  8.1, 13.6, 20.1, 21.8, 24.5,\n",
       "       23.1, 19.7, 18.3, 21.2, 17.5, 16.8, 22.4, 20.6, 23.9, 22. , 11.9])"
      ]
     },
     "execution_count": 69,
     "metadata": {},
     "output_type": "execute_result"
    }
   ],
   "source": [
    "boston.target"
   ]
  },
  {
   "cell_type": "code",
   "execution_count": 70,
   "metadata": {},
   "outputs": [
    {
     "name": "stdout",
     "output_type": "stream",
     "text": [
      "[0.15968566 0.10152429 1.32424667 1.18275795 1.48750288 0.6712218\n",
      " 0.03996443 0.49708184 0.65659542 0.39538548 0.81985164 0.39538548\n",
      " 0.09064054 0.23212926 0.47157171 0.286548   0.06173193 0.54775795\n",
      " 0.25389676 0.47157171 0.97222411 0.31919924 0.79808414 0.87427038\n",
      " 0.75454915 0.93957286 0.64571167 0.84161913 0.44980422 0.16682677\n",
      " 1.07017784 0.87427038 1.0157591  1.02664285 0.98310786 0.39538548\n",
      " 0.27566425 0.16682677 0.23587189 0.89978051 1.34601416 0.4426631\n",
      " 0.30117438 0.23587189 0.14505928 0.35185049 0.27566425 0.64571167\n",
      " 0.88515413 0.34096674 0.30831549 0.22124551 0.26852314 0.09438317\n",
      " 0.39538548 1.4004329  0.23587189 0.98685049 0.08349942 0.31919924\n",
      " 0.41715297 0.71101416 0.0362218  0.26852314 1.13922296 0.10526692\n",
      " 0.34096674 0.0579893  0.55864169 0.17771052 0.18145315 0.09064054\n",
      " 0.02908069 0.09438317 0.17056941 0.12329178 0.27566425 0.18859427\n",
      " 0.14505928 0.24301301 0.59503557 0.14880191 0.24675564 0.03996443\n",
      " 0.14880191 0.4426631  0.00357056 0.0362218  0.11615067 0.6712218\n",
      " 0.00731319 0.0579893  0.03996443 0.26852314 0.21036176 0.63857056\n",
      " 0.12329178 1.75959658 2.31466771 1.16099045 0.54061683 0.43177935\n",
      " 0.42803672 0.35185049 0.2647805  0.33008299 0.33008299 0.23212926\n",
      " 0.29743175 0.34096674 0.09064054 0.02908069 0.40626922 0.41715297\n",
      " 0.43892047 0.46068796 0.14505928 0.36273423 0.23212926 0.35185049\n",
      " 0.0579893  0.24301301 0.22124551 0.56952544 0.40626922 0.12329178\n",
      " 0.7436654  0.68924667 0.49333921 0.89603787 0.36273423 0.31919924\n",
      " 0.05084818 0.44980422 0.75454915 0.48245546 0.55864169 0.59129294\n",
      " 1.00487535 0.5151067  0.92868912 0.88515413 0.9939916  0.75454915\n",
      " 1.16813157 0.95045661 0.75454915 0.86338663 0.5151067  0.77631665\n",
      " 0.11240804 0.31919924 0.7872004  0.34096674 0.60217668 0.75454915\n",
      " 1.02664285 2.04257402 0.1923369  0.08349942 0.48619809 2.98946007\n",
      " 2.98946007 2.98946007 0.01819694 0.26852314 2.98946007 0.13791816\n",
      " 0.13791816 0.02533805 0.55864169 0.37361798 0.06173193 0.11615067\n",
      " 0.00731319 0.74740804 0.07261568 0.22498815 0.80182678 1.59634036\n",
      " 1.8793178  1.48750288 1.6725266  1.08480422 0.4208956  0.76917553\n",
      " 2.98946007 1.03038548 0.79094303 1.34601416 1.57457287 0.86712926\n",
      " 1.50927038 0.93243175 0.71475679 2.98946007 1.1718742  0.84536177\n",
      " 1.31336292 1.34601416 1.12833921 0.17056941 2.1514115  2.82620386\n",
      " 2.98946007 0.00731319 0.20322065 0.00357056 0.20322065 0.27566425\n",
      " 0.09064054 0.35185049 0.01445431 0.60591932 0.12703442 0.26852314\n",
      " 0.08349942 0.6712218  0.11240804 0.05084818 0.45354685 0.09064054\n",
      " 0.54061683 0.82359427 2.42350519 2.98946007 1.63987535 0.98685049\n",
      " 2.6302964  0.97596674 0.1923369  0.99773424 2.08610901 2.80443636\n",
      " 0.70387305 0.15968566 0.27940688 0.97596674 0.12703442 0.08349942\n",
      " 0.0579893  0.2647805  0.0362218  0.12703442 0.5368742  0.43892047\n",
      " 0.1923369  0.22124551 0.2141044  0.39912811 0.20322065 0.24675564\n",
      " 0.76917553 2.20583024 0.06887304 0.17771052 2.33643521 2.98946007\n",
      " 1.46573539 0.82359427 1.22629294 2.23848148 2.8588551  0.921548\n",
      " 1.52015413 0.02908069 0.88889676 2.98946007 2.28201647 0.19947802\n",
      " 0.15594303 0.29029063 0.20322065 1.37866541 1.07392047 1.03038548\n",
      " 1.16099045 1.1501067  0.71475679 1.36778166 2.48880768 1.4004329\n",
      " 2.55411016 2.98946007 1.05215297 0.0579893  0.2647805  0.07261568\n",
      " 0.02533805 0.24675564 0.64945431 1.60722411 0.58415182 0.14880191\n",
      " 0.09064054 0.66033806 0.49708184 0.24301301 0.00357056 0.70387305\n",
      " 0.24675564 0.0579893  0.4208956  1.1501067  1.47661914 0.63857056\n",
      " 1.18275795 0.61680306 0.02908069 0.24301301 0.70013041 0.04710555\n",
      " 0.34096674 0.10152429 0.13791816 0.68924667 0.5151067  0.29743175\n",
      " 0.06173193 0.16682677 0.13791816 0.06173193 0.23212926 0.43892047\n",
      " 0.26852314 0.22498815 0.05084818 0.0362218  0.35185049 0.00731319\n",
      " 0.29743175 0.59129294 0.34096674 0.0362218  0.19947802 0.15594303\n",
      " 0.33008299 0.43892047 0.21036176 0.38450173 0.41715297 1.10657171\n",
      " 0.65659542 0.14880191 0.9433155  0.54775795 0.58040919 0.06173193\n",
      " 0.2141044  0.4426631  0.03996443 0.17056941 0.42803672 0.82359427\n",
      " 0.47157171 0.21036176 0.5151067  0.09064054 0.01819694 0.00731319\n",
      " 0.26852314 0.286548   0.18859427 0.62394418 0.06887304 0.54061683\n",
      " 0.06887304 0.06173193 2.98946007 2.98946007 2.98946007 2.98946007\n",
      " 2.98946007 0.95045661 0.95045661 0.81985164 0.93957286 1.00487535\n",
      " 1.02664285 1.34227153 1.32050404 1.2660853  1.22255031 1.11371283\n",
      " 1.494644   1.66878396 1.30962029 1.64701647 1.34227153 1.20078281\n",
      " 0.80896789 0.07261568 1.39669027 0.95045661 1.07017784 1.02664285\n",
      " 1.09194533 1.52729524 1.90822641 1.76673769 1.84292393 1.66878396\n",
      " 1.13548032 1.54906274 1.52729524 1.90822641 1.15724782 0.58415182\n",
      " 0.58040919 0.54061683 0.81985164 0.58040919 0.50422295 0.67836292\n",
      " 1.69055146 1.66878396 1.63613272 1.32050404 1.494644   1.53817899\n",
      " 0.63482793 0.90692162 0.18859427 0.9939916  1.17901531 1.54906274\n",
      " 1.34227153 1.2660853  1.25520155 1.41845777 0.87427038 0.91780537\n",
      " 0.70013041 0.89603787 1.17901531 0.9939916  1.40757402 1.50552775\n",
      " 1.53817899 1.05929409 1.30962029 0.59129294 0.44980422 0.77631665\n",
      " 1.27696904 1.16813157 0.83073539 1.08106158 0.91780537 1.03752659\n",
      " 0.9939916  0.79808414 0.70013041 0.5151067  0.83073539 0.91780537\n",
      " 1.07017784 0.98310786 0.83073539 0.27566425 0.66747917 0.52599045\n",
      " 0.33008299 0.25389676 0.12329178 0.286548   0.38450173 0.37361798\n",
      " 0.37361798 0.2647805  0.286548   0.31919924 0.07261568 0.79094303\n",
      " 0.95045661 1.00487535 0.63482793 1.14636407 0.86338663 0.12329178\n",
      " 0.05084818 0.12703442 0.26852314 0.07975679 0.21036176 0.14505928\n",
      " 0.37361798 0.21036176 0.79808414 1.69055146 1.57083023 0.97222411\n",
      " 0.2647805  0.07975679 0.2141044  0.06173193 0.30831549 0.46068796\n",
      " 0.14505928 0.54775795 0.62394418 0.01445431 0.21036176 0.14880191\n",
      " 0.0579893  1.15724782]\n"
     ]
    }
   ],
   "source": [
    "from scipy import stats\n",
    "z=np.abs(stats.zscore(boston.target))\n",
    "print(z)"
   ]
  },
  {
   "cell_type": "code",
   "execution_count": 71,
   "metadata": {},
   "outputs": [
    {
     "name": "stdout",
     "output_type": "stream",
     "text": [
      "(array([ 98, 157, 161, 162, 163, 166, 186, 195, 202, 203, 204, 224, 225,\n",
      "       228, 232, 233, 253, 256, 257, 261, 262, 267, 268, 280, 282, 283,\n",
      "       368, 369, 370, 371, 372], dtype=int64),)\n"
     ]
    }
   ],
   "source": [
    "print(np.where(z>2))"
   ]
  },
  {
   "cell_type": "code",
   "execution_count": null,
   "metadata": {},
   "outputs": [],
   "source": []
  }
 ],
 "metadata": {
  "kernelspec": {
   "display_name": "Python 3",
   "language": "python",
   "name": "python3"
  },
  "language_info": {
   "codemirror_mode": {
    "name": "ipython",
    "version": 3
   },
   "file_extension": ".py",
   "mimetype": "text/x-python",
   "name": "python",
   "nbconvert_exporter": "python",
   "pygments_lexer": "ipython3",
   "version": "3.7.6"
  }
 },
 "nbformat": 4,
 "nbformat_minor": 4
}
