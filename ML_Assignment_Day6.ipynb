{
 "cells": [
  {
   "cell_type": "code",
   "execution_count": 8,
   "metadata": {},
   "outputs": [
    {
     "name": "stdout",
     "output_type": "stream",
     "text": [
      "Enter email address:abc@gmail.com\n",
      "gmail\n"
     ]
    }
   ],
   "source": [
    "#Assuming that we have some email addresses in the \"username@companyname.com\" format, please write a program to print the company name of a given email address. Both user names and company\n",
    "#names are composed of letters only.\n",
    "\n",
    "a = input(\"Enter email address:\")\n",
    "x = a.index('@')\n",
    "print(a[x+1:len(a)-4])"
   ]
  },
  {
   "cell_type": "code",
   "execution_count": 9,
   "metadata": {},
   "outputs": [
    {
     "name": "stdout",
     "output_type": "stream",
     "text": [
      "Enter comma separated values:without,hello,bag,world\n",
      "bag,hello,without,world\n"
     ]
    }
   ],
   "source": [
    "#Write a program that accepts a comma-separated sequence of words as input and prints the words in a\n",
    "#comma-separated sequence after sorting them alphabetically.\n",
    "\n",
    "a = input(\"Enter comma separated values:\")\n",
    "x = a.split(',')\n",
    "print(\",\".join(sorted(x)))"
   ]
  },
  {
   "cell_type": "markdown",
   "metadata": {},
   "source": [
    "#Create your own Jupyter Notebook for Sets.\n",
    "\n",
    "SETS"
   ]
  },
  {
   "cell_type": "markdown",
   "metadata": {},
   "source": [
    "A set is a collection which is unordered and unindexed. In python sets are written with curly brackets."
   ]
  },
  {
   "cell_type": "code",
   "execution_count": 20,
   "metadata": {},
   "outputs": [
    {
     "name": "stdout",
     "output_type": "stream",
     "text": [
      "{'Machine Learning', 'Letsupgrade', 'Abhishek', 'Biradar'}\n",
      "True\n"
     ]
    }
   ],
   "source": [
    "# creating a SET\n",
    "\n",
    "a = {'Abhishek','Biradar','Machine Learning','Letsupgrade'}\n",
    "print(a)\n",
    "print(\"Abhishek\" in a)\n"
   ]
  },
  {
   "cell_type": "code",
   "execution_count": 19,
   "metadata": {},
   "outputs": [
    {
     "data": {
      "text/plain": [
       "{'Abhishek', 'Biradar', 'Data Science', 'Letsupgrade', 'Machine Learning'}"
      ]
     },
     "execution_count": 19,
     "metadata": {},
     "output_type": "execute_result"
    }
   ],
   "source": [
    "#Adding item to SET    using ADD\n",
    "\n",
    "a = {'Abhishek','Biradar','Machine Learning','Letsupgrade'}\n",
    "a.add('Data Science')\n",
    "a"
   ]
  },
  {
   "cell_type": "code",
   "execution_count": 26,
   "metadata": {},
   "outputs": [
    {
     "name": "stdout",
     "output_type": "stream",
     "text": [
      "3\n"
     ]
    }
   ],
   "source": [
    "#Get Length of the set\n",
    "\n",
    "a = {'Abhishek','Biradar','Letsupgrade'}\n",
    "print(len(a))"
   ]
  },
  {
   "cell_type": "code",
   "execution_count": 29,
   "metadata": {},
   "outputs": [
    {
     "data": {
      "text/plain": [
       "{'Abhishek', 'Letsupgrade', 'Machine Learning'}"
      ]
     },
     "execution_count": 29,
     "metadata": {},
     "output_type": "execute_result"
    }
   ],
   "source": [
    "#Remove an item\n",
    "\n",
    "a = {'Abhishek','Biradar','Machine Learning','Letsupgrade'}\n",
    "a.remove(\"Biradar\")\n",
    "a"
   ]
  },
  {
   "cell_type": "code",
   "execution_count": 32,
   "metadata": {},
   "outputs": [
    {
     "data": {
      "text/plain": [
       "'Machine Learning'"
      ]
     },
     "execution_count": 32,
     "metadata": {},
     "output_type": "execute_result"
    }
   ],
   "source": [
    "#Using pop\n",
    "\n",
    "a = {'Abhishek','Biradar','Machine Learning','Letsupgrade'}\n",
    "x = a.pop()\n",
    "x"
   ]
  },
  {
   "cell_type": "code",
   "execution_count": 34,
   "metadata": {},
   "outputs": [
    {
     "data": {
      "text/plain": [
       "set()"
      ]
     },
     "execution_count": 34,
     "metadata": {},
     "output_type": "execute_result"
    }
   ],
   "source": [
    "# Clearing\n",
    "\n",
    "a = {'Abhishek','Biradar','Machine Learning','Letsupgrade'}\n",
    "a.clear()\n",
    "a"
   ]
  },
  {
   "cell_type": "code",
   "execution_count": 36,
   "metadata": {},
   "outputs": [
    {
     "data": {
      "text/plain": [
       "{'1', '2', '3', '4', 'Abhishek', 'Biradar', 'Letsupgrade', 'Machine Learning'}"
      ]
     },
     "execution_count": 36,
     "metadata": {},
     "output_type": "execute_result"
    }
   ],
   "source": [
    "# Joining two SET\n",
    "\n",
    "a = {'Abhishek','Biradar','Machine Learning','Letsupgrade'}\n",
    "b = {'1','2','3','4'}\n",
    "c = a.union(b)\n",
    "c"
   ]
  },
  {
   "cell_type": "code",
   "execution_count": 41,
   "metadata": {},
   "outputs": [
    {
     "data": {
      "text/plain": [
       "5.0"
      ]
     },
     "execution_count": 41,
     "metadata": {},
     "output_type": "execute_result"
    }
   ],
   "source": [
    "# Given a list of n-1 numbers ranging from 1 to n, your task is to find the missing number. There are no duplicates.\n",
    "\n",
    "def missingnumber(A):\n",
    "    n = len(A)\n",
    "    z = (n+1)*(n+2)/2\n",
    "    x = z - sum(A)\n",
    "    return x\n",
    "missingnumber([1,2,3,4,6,7,8])\n",
    "\n",
    "    "
   ]
  },
  {
   "cell_type": "code",
   "execution_count": 49,
   "metadata": {},
   "outputs": [
    {
     "data": {
      "text/plain": [
       "[12, 24, 35]"
      ]
     },
     "execution_count": 49,
     "metadata": {},
     "output_type": "execute_result"
    }
   ],
   "source": [
    "#With a given list L, write a program to print this list L after removing all duplicate values with original order reserved.\n",
    "\n",
    "def duplicateremove(A):\n",
    "    list = []\n",
    "    for i in A:\n",
    "        if i not in list:\n",
    "            list.append(i)\n",
    "    return list\n",
    "\n",
    "duplicateremove([12, 24, 35, 24])"
   ]
  }
 ],
 "metadata": {
  "kernelspec": {
   "display_name": "Python 3",
   "language": "python",
   "name": "python3"
  },
  "language_info": {
   "codemirror_mode": {
    "name": "ipython",
    "version": 3
   },
   "file_extension": ".py",
   "mimetype": "text/x-python",
   "name": "python",
   "nbconvert_exporter": "python",
   "pygments_lexer": "ipython3",
   "version": "3.7.6"
  }
 },
 "nbformat": 4,
 "nbformat_minor": 4
}
