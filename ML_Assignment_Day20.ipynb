{
 "cells": [
  {
   "cell_type": "markdown",
   "metadata": {},
   "source": [
    "# Anova\n",
    "Three archers – Pat, Jack, and Alex are participating in an archery contest. They are shooting at targets with 10 evenly spaced concentric rings. The rings have score values from 1 through 10 assigned to them, with 10 being the highest. Each participant shoots 6 arrow, scoring the following points: Pat – 5, 4, 4, 3, 9, 4. Jack – 4, 8, 7, 5, 1, 5. Alex – 9, 9, 8, 10, 4, 10 Based on the above results we would like to know who the best archer is. In other words our null hypothesis is that the means of all populations are equal."
   ]
  },
  {
   "cell_type": "code",
   "execution_count": 1,
   "metadata": {},
   "outputs": [],
   "source": [
    "import pandas as pd\n",
    "import numpy as np\n",
    "from scipy import stats\n"
   ]
  },
  {
   "cell_type": "code",
   "execution_count": 2,
   "metadata": {},
   "outputs": [],
   "source": [
    "data = np.rec.array([('Pat',5),('Pat',4),('Pat',4),('Pat',3),('Pat',9),('Pat',4),('Jack',4),('Jack',8),('Jack',7),('Jack',5),\n",
    "                    ('Jack',1),('Jack',5),('Alex',9),('Alex',9),('Alex',8),('Alex',10),('Alex',4),('Alex',10)], dtype = [('Archer','|U5'),('Score','<i8')])"
   ]
  },
  {
   "cell_type": "code",
   "execution_count": 3,
   "metadata": {},
   "outputs": [],
   "source": [
    "f,p = stats.f_oneway(data[data['Archer'] == 'Pat'].Score,\n",
    "                     data[data['Archer'] == 'Jack'].Score,\n",
    "                     data[data['Archer'] == 'Alex'].Score)"
   ]
  },
  {
   "cell_type": "code",
   "execution_count": 4,
   "metadata": {},
   "outputs": [
    {
     "name": "stdout",
     "output_type": "stream",
     "text": [
      "One way ANOVA\n",
      " \n",
      "F value: 4.4882729211087415\n",
      "P value: 0.029667763955533364 \n",
      "\n"
     ]
    }
   ],
   "source": [
    "print('One way ANOVA')\n",
    "print(\" \")\n",
    "print('F value:',f)\n",
    "print('P value:',p,'\\n')"
   ]
  },
  {
   "cell_type": "code",
   "execution_count": 5,
   "metadata": {},
   "outputs": [],
   "source": [
    "from statsmodels.stats.multicomp import pairwise_tukeyhsd\n",
    "from statsmodels.stats.multicomp import MultiComparison"
   ]
  },
  {
   "cell_type": "code",
   "execution_count": 6,
   "metadata": {},
   "outputs": [
    {
     "name": "stdout",
     "output_type": "stream",
     "text": [
      "Multiple Comparison of Means - Tukey HSD, FWER=0.05\n",
      "===================================================\n",
      "group1 group2 meandiff p-adj   lower  upper  reject\n",
      "---------------------------------------------------\n",
      "  Alex   Jack  -3.3333 0.0568 -6.7554 0.0887  False\n",
      "  Alex    Pat     -3.5 0.0447  -6.922 -0.078   True\n",
      "  Jack    Pat  -0.1667    0.9 -3.5887 3.2554  False\n",
      "---------------------------------------------------\n",
      "['Alex' 'Jack' 'Pat']\n"
     ]
    }
   ],
   "source": [
    "mc = MultiComparison(data['Score'], data['Archer'])\n",
    "result = mc.tukeyhsd()\n",
    " \n",
    "print(result)\n",
    "print(mc.groupsunique)"
   ]
  },
  {
   "cell_type": "markdown",
   "metadata": {},
   "source": [
    "The test also shows the difference between the group means(the meandiff column)\n",
    "\n",
    "μ(jack) - μ(Alex) = -3.333 μ(pat) - μ(ALex) = -3.5\n",
    "\n",
    "This leads to the conclusion that Alex is the best Archer in the gruop"
   ]
  },
  {
   "cell_type": "code",
   "execution_count": null,
   "metadata": {},
   "outputs": [],
   "source": []
  }
 ],
 "metadata": {
  "kernelspec": {
   "display_name": "Python 3",
   "language": "python",
   "name": "python3"
  },
  "language_info": {
   "codemirror_mode": {
    "name": "ipython",
    "version": 3
   },
   "file_extension": ".py",
   "mimetype": "text/x-python",
   "name": "python",
   "nbconvert_exporter": "python",
   "pygments_lexer": "ipython3",
   "version": "3.7.6"
  }
 },
 "nbformat": 4,
 "nbformat_minor": 4
}
